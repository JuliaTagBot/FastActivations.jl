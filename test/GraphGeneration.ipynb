{
 "cells": [
  {
   "cell_type": "code",
   "execution_count": null,
   "metadata": {},
   "outputs": [],
   "source": [
    "#include(\"../src/ActivationsHeader.jl\");"
   ]
  },
  {
   "cell_type": "code",
   "execution_count": 1,
   "metadata": {},
   "outputs": [
    {
     "name": "stdout",
     "output_type": "stream",
     "text": [
      "\u001b[32m\u001b[1m  Updating\u001b[22m\u001b[39m registry at `C:\\Users\\Tim\\.julia\\registries\\General`\n",
      "\u001b[32m\u001b[1m  Updating\u001b[22m\u001b[39m git-repo `https://github.com/JuliaRegistries/General.git`\n",
      "\u001b[2K\u001b[?25h[1mFetching:\u001b[22m\u001b[39m [========================================>]  100.0 %.0 %\u001b[32m\u001b[1m  Updating\u001b[22m\u001b[39m git-repo `https://github.com/NTimmons/FastActivations.jl`\n",
      "\u001b[?25l\u001b[2K\u001b[?25h\u001b[32m\u001b[1m  Updating\u001b[22m\u001b[39m git-repo `https://github.com/NTimmons/FastActivations.jl`\n",
      "\u001b[?25l\u001b[2K\u001b[?25h"
     ]
    },
    {
     "ename": "UndefVarError",
     "evalue": "UndefVarError: mode not defined",
     "output_type": "error",
     "traceback": [
      "UndefVarError: mode not defined",
      "",
      "Stacktrace:",
      " [1] #add#25(::Bool, ::Base.Iterators.Pairs{Union{},Union{},Tuple{},NamedTuple{(),Tuple{}}}, ::typeof(Pkg.API.add), ::Pkg.Types.Context, ::Array{Pkg.Types.PackageSpec,1}) at C:\\cygwin\\home\\Administrator\\buildbot\\worker\\package_win64\\build\\usr\\share\\julia\\stdlib\\v1.2\\Pkg\\src\\API.jl:96",
      " [2] add at C:\\cygwin\\home\\Administrator\\buildbot\\worker\\package_win64\\build\\usr\\share\\julia\\stdlib\\v1.2\\Pkg\\src\\API.jl:69 [inlined]",
      " [3] do_add!(::Dict{Symbol,Any}, ::Array{Pkg.Types.PackageSpec,1}, ::Dict{Symbol,Any}) at C:\\cygwin\\home\\Administrator\\buildbot\\worker\\package_win64\\build\\usr\\share\\julia\\stdlib\\v1.2\\Pkg\\src\\REPLMode.jl:496",
      " [4] #invokelatest#1(::Base.Iterators.Pairs{Union{},Union{},Tuple{},NamedTuple{(),Tuple{}}}, ::typeof(Base.invokelatest), ::Any, ::Any, ::Vararg{Any,N} where N) at .\\essentials.jl:790",
      " [5] invokelatest(::Any, ::Any, ::Vararg{Any,N} where N) at .\\essentials.jl:789",
      " [6] do_cmd!(::Pkg.REPLMode.Command, ::IJulia.MiniREPL) at C:\\cygwin\\home\\Administrator\\buildbot\\worker\\package_win64\\build\\usr\\share\\julia\\stdlib\\v1.2\\Pkg\\src\\REPLMode.jl:403",
      " [7] #do_cmd#23(::Bool, ::typeof(Pkg.REPLMode.do_cmd), ::IJulia.MiniREPL, ::String) at C:\\cygwin\\home\\Administrator\\buildbot\\worker\\package_win64\\build\\usr\\share\\julia\\stdlib\\v1.2\\Pkg\\src\\REPLMode.jl:382",
      " [8] (::getfield(Pkg.REPLMode, Symbol(\"#kw##do_cmd\")))(::NamedTuple{(:do_rethrow,),Tuple{Bool}}, ::typeof(Pkg.REPLMode.do_cmd), ::IJulia.MiniREPL, ::String) at .\\none:0",
      " [9] top-level scope at In[1]:1"
     ]
    }
   ],
   "source": [
    "] add https://github.com/NTimmons/FastActivations.jl"
   ]
  },
  {
   "cell_type": "code",
   "execution_count": null,
   "metadata": {},
   "outputs": [],
   "source": [
    "using Plots\n",
    "using Flux "
   ]
  },
  {
   "cell_type": "code",
   "execution_count": null,
   "metadata": {},
   "outputs": [],
   "source": [
    "println(\"Sigmoid Functions\")\n",
    "println(\"Sigmoid = $(sigmoid(1.0))\")\n",
    "for f in FastActivations.SigmoidApproximations\n",
    "    println(\"Value at 1.0 = $(f):$(f(1.0))\") \n",
    "end\n",
    "\n",
    "println()\n",
    "println(\"Tanh Functions\")\n",
    "println(\"Tanh = $(tanh(1.0))\")\n",
    "for f in FastActivations.TanhApproximations\n",
    "    println(\"Value at 1.0 = $(f):$(f(1.0))\") \n",
    "end"
   ]
  },
  {
   "cell_type": "code",
   "execution_count": null,
   "metadata": {},
   "outputs": [],
   "source": [
    "#Sigmoid Testing Values\n",
    "range = -5.5:0.01:5.5\n",
    "\n",
    "plot(range, sigmoid, label=\"sigmoid\", legend=:topleft)\n",
    "# Sigmoid Fitted Taylor\n",
    "for f in FastActivations.SigmoidTaylorFunctions\n",
    "    plot!(range, f, title=\"Taylor Fit Sigmoid\", label=\"$(f)\")\n",
    "end\n",
    "p = plot!()\n",
    "savefig(p, \"sigmoidtaylor.png\")\n",
    "p"
   ]
  },
  {
   "cell_type": "code",
   "execution_count": null,
   "metadata": {},
   "outputs": [],
   "source": [
    "plot(range, sigmoid, label=\"sigmoid\", legend=:topleft)\n",
    "# Sigmoid Fitted Pade\n",
    "for f in FastActivations.SigmoidPadeFunctions\n",
    "    plot!(range, f, title=\"Pade Fit Sigmoid\", label=\"$(f)\")\n",
    "end\n",
    "p = plot!()\n",
    "savefig(p, \"sigmoidpade.png\")\n",
    "p"
   ]
  },
  {
   "cell_type": "code",
   "execution_count": null,
   "metadata": {},
   "outputs": [],
   "source": [
    "plot(range, sigmoid, label=\"sigmoid\", legend=:topleft)\n",
    "# Sigmoid Mathematical\n",
    "for f in FastActivations.SigmoidMathematicalFunctions\n",
    "    plot!(range, f, title=\"Fast Exp Approximation Sigmoid\", label=\"$(f)\")\n",
    "end\n",
    "p = plot!()\n",
    "savefig(p, \"sigmoidfastexp.png\")\n",
    "p"
   ]
  },
  {
   "cell_type": "code",
   "execution_count": null,
   "metadata": {},
   "outputs": [],
   "source": [
    "#Sigmoid Testing Values\n",
    "range = -5.5:0.01:5.5\n",
    "\n",
    "plot(range, tanh, label=\"tanh\", legend=:topleft)\n",
    "# Tanh Fitted Pade\n",
    "for f in FastActivations.TanhTaylorFunctions\n",
    "    plot!(range, f, title=\"Taylor Fit Tanh\",label=\"$(f)\")\n",
    "end\n",
    "p = plot!()\n",
    "savefig(p, \"tanhtaylor.png\")\n",
    "p"
   ]
  },
  {
   "cell_type": "code",
   "execution_count": null,
   "metadata": {},
   "outputs": [],
   "source": [
    "plot(range, tanh, label=\"tanh\", legend=:topleft)\n",
    "# Tanh Fitted Pade\n",
    "for f in FastActivations.TanhPadeFunctions\n",
    "    plot!(range, f, title=\"Pade Fit Tanh\",label=\"$(f)\")\n",
    "end\n",
    "p = plot!()\n",
    "savefig(p, \"tanhpade.png\")\n",
    "p"
   ]
  },
  {
   "cell_type": "code",
   "execution_count": null,
   "metadata": {},
   "outputs": [],
   "source": [
    "plot(range, tanh, label=\"tanh\", legend=:topleft)\n",
    "# Tanh Cont. Frac\n",
    "for f in FastActivations.TanhContinuousFunctions\n",
    "    plot!(range, f, title=\"Continuous Fraction Tanh\",label=\"$(f)\")\n",
    "end\n",
    "p = plot!()\n",
    "savefig(p, \"tanhcontfrac.png\")\n",
    "p"
   ]
  },
  {
   "cell_type": "code",
   "execution_count": null,
   "metadata": {},
   "outputs": [],
   "source": [
    "plot(range, tanh, label=\"tanh\", legend=:topleft)\n",
    "# Tanh Cont. Frac Clamp\n",
    "for f in FastActivations.TanhContinuousFunctions\n",
    "    plot!(range, x -> FastActivations.tanhClamp(f,x), title=\"Clamp Cont. Frac Tanh\",label=\"$(f)\")\n",
    "end\n",
    "p = plot!()\n",
    "savefig(p, \"tanhclampcont.png\")\n",
    "p"
   ]
  },
  {
   "cell_type": "code",
   "execution_count": null,
   "metadata": {},
   "outputs": [],
   "source": [
    "plot(range, tanh, label=\"tanh\", legend=:topleft)\n",
    "# Tanh Serpentine\n",
    "for f in FastActivations.TanhSerpentineFunctions\n",
    "    plot!(range, f, title=\"Serpentine Tanh\",label=\"$(f)\")\n",
    "end\n",
    "p = plot!()\n",
    "savefig(p, \"tanhserpentine.png\")\n",
    "p"
   ]
  }
 ],
 "metadata": {
  "kernelspec": {
   "display_name": "Julia 1.2.0",
   "language": "julia",
   "name": "julia-1.2"
  },
  "language_info": {
   "file_extension": ".jl",
   "mimetype": "application/julia",
   "name": "julia",
   "version": "1.2.0"
  }
 },
 "nbformat": 4,
 "nbformat_minor": 2
}
